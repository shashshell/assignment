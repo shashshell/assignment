{
  "nbformat": 4,
  "nbformat_minor": 0,
  "metadata": {
    "colab": {
      "provenance": []
    },
    "kernelspec": {
      "name": "python3",
      "display_name": "Python 3"
    },
    "language_info": {
      "name": "python"
    }
  },
  "cells": [
    {
      "cell_type": "markdown",
      "source": [
        "Q1. Create a vehicle class with an init method having instance variables as name_of_vehicle, max_speed\n",
        "and average_of_vehicle."
      ],
      "metadata": {
        "id": "Y33xYVWWxD3R"
      }
    },
    {
      "cell_type": "code",
      "execution_count": null,
      "metadata": {
        "id": "KVSe13GuxBEm"
      },
      "outputs": [],
      "source": [
        "class Vehicle :\n",
        "    def __init__(self, name_of_vehicle, max_speed, average_of_vehicle):\n",
        "        self.name_of_vehicle = name_of_vehicle\n",
        "        self.max_speed = max_speed\n",
        "        self.average_of_vehicle = average_of_vehicle"
      ]
    },
    {
      "cell_type": "markdown",
      "source": [
        "Q2. Create a child class car from the vehicle class created in Que 1, which will inherit the vehicle class.\n",
        "Create a method named seating_capacity which takes capacity as an argument and returns the name of\n",
        "the vehicle and its seating capacity."
      ],
      "metadata": {
        "id": "-SIkQTZDx20O"
      }
    },
    {
      "cell_type": "code",
      "source": [
        "class Car(Vehicle):\n",
        "    def seating_capacity(self, capacity):\n",
        "        return f\"The {self.name_of_vehicle} has a seating capacity of {capacity} people.\"\n"
      ],
      "metadata": {
        "id": "br8VA2Mxx5tG"
      },
      "execution_count": null,
      "outputs": []
    },
    {
      "cell_type": "code",
      "source": [
        "C = Car(\"sedan\", 200,100)\n",
        "C.seating_capacity(10)"
      ],
      "metadata": {
        "colab": {
          "base_uri": "https://localhost:8080/",
          "height": 36
        },
        "id": "m0a_SDB5y-em",
        "outputId": "80c66328-ed63-482b-873a-90503c100678"
      },
      "execution_count": null,
      "outputs": [
        {
          "output_type": "execute_result",
          "data": {
            "text/plain": [
              "'The sedan has a seating capacity of 10 people.'"
            ],
            "application/vnd.google.colaboratory.intrinsic+json": {
              "type": "string"
            }
          },
          "metadata": {},
          "execution_count": 5
        }
      ]
    },
    {
      "cell_type": "markdown",
      "source": [
        "Q3. What is multiple inheritance? Write a python code to demonstrate multiple inheritance."
      ],
      "metadata": {
        "id": "RbsLUrSjzXrA"
      }
    },
    {
      "cell_type": "markdown",
      "source": [
        "In multiple inheritance a single child class can inherit from the multiple parent classes at once.The derived class inherits all the features of the base case."
      ],
      "metadata": {
        "id": "98_z47CvzdR4"
      }
    },
    {
      "cell_type": "code",
      "source": [
        "class class1 :\n",
        "    def class1_meth(self):\n",
        "        return \"I am from class 1\""
      ],
      "metadata": {
        "id": "W_AQL3nbzctw"
      },
      "execution_count": null,
      "outputs": []
    },
    {
      "cell_type": "code",
      "source": [
        "class class2:\n",
        "    def class2_meth(self):\n",
        "        return \" I am  from class 2\""
      ],
      "metadata": {
        "id": "sKUStsGA0Cm3"
      },
      "execution_count": null,
      "outputs": []
    },
    {
      "cell_type": "code",
      "source": [
        "class class3(class1, class2):\n",
        "    pass"
      ],
      "metadata": {
        "id": "FZLmNXur0K6f"
      },
      "execution_count": null,
      "outputs": []
    },
    {
      "cell_type": "code",
      "source": [
        "c = class3()"
      ],
      "metadata": {
        "id": "3rc5uHQ90T1G"
      },
      "execution_count": null,
      "outputs": []
    },
    {
      "cell_type": "code",
      "source": [
        "c.class1_meth()"
      ],
      "metadata": {
        "colab": {
          "base_uri": "https://localhost:8080/",
          "height": 36
        },
        "id": "f1Wfw9h20XO-",
        "outputId": "146a31b7-ff2a-4974-c44b-2dcd9a64f0a9"
      },
      "execution_count": null,
      "outputs": [
        {
          "output_type": "execute_result",
          "data": {
            "text/plain": [
              "'I am from class 1'"
            ],
            "application/vnd.google.colaboratory.intrinsic+json": {
              "type": "string"
            }
          },
          "metadata": {},
          "execution_count": 10
        }
      ]
    },
    {
      "cell_type": "code",
      "source": [
        "c.class2_meth()"
      ],
      "metadata": {
        "colab": {
          "base_uri": "https://localhost:8080/",
          "height": 36
        },
        "id": "6-Sgpvwd0Za-",
        "outputId": "599c368e-fe81-4c52-8fb6-b69b493e6bbd"
      },
      "execution_count": null,
      "outputs": [
        {
          "output_type": "execute_result",
          "data": {
            "text/plain": [
              "' I am  from class 2'"
            ],
            "application/vnd.google.colaboratory.intrinsic+json": {
              "type": "string"
            }
          },
          "metadata": {},
          "execution_count": 11
        }
      ]
    },
    {
      "cell_type": "markdown",
      "source": [
        "Q4. What are getter and setter in python? Create a class and create a getter and a setter method in this\n",
        "class."
      ],
      "metadata": {
        "id": "NLE984B8zc35"
      }
    },
    {
      "cell_type": "code",
      "source": [
        "class Student:\n",
        "    def __init__(self, name, age):\n",
        "        self.__name = name\n",
        "        self.__age = age\n",
        "\n",
        "    @property\n",
        "    def name(self):\n",
        "        return self.__name\n",
        "\n",
        "    @name.setter\n",
        "    def name(self, new_name):\n",
        "        self.__name = new_name\n",
        "\n",
        "    @property\n",
        "    def age(self):\n",
        "        return self.__age\n",
        "\n",
        "    @age.setter\n",
        "    def age(self, new_age):\n",
        "        if new_age > 0:\n",
        "            self.__age = new_age\n",
        "        else:\n",
        "            print(\"Age must be a positive value.\")\n",
        "\n",
        "    @age.deleter\n",
        "    def age(self):\n",
        "        del self.__age\n"
      ],
      "metadata": {
        "id": "o9h5o8Pqg30X"
      },
      "execution_count": 1,
      "outputs": []
    },
    {
      "cell_type": "code",
      "source": [
        "student = Student(\"Shashwat\", 20)"
      ],
      "metadata": {
        "id": "JlPN3cT6g5yu"
      },
      "execution_count": 3,
      "outputs": []
    },
    {
      "cell_type": "code",
      "source": [
        "print(student.name)\n",
        "print(student.age)"
      ],
      "metadata": {
        "colab": {
          "base_uri": "https://localhost:8080/"
        },
        "id": "JM6_pkeZg7r3",
        "outputId": "b4c773cc-6dc7-40a6-dc4b-42ffba0aa63d"
      },
      "execution_count": 4,
      "outputs": [
        {
          "output_type": "stream",
          "name": "stdout",
          "text": [
            "Shashwat\n",
            "20\n"
          ]
        }
      ]
    },
    {
      "cell_type": "code",
      "source": [
        "student.name = \"krish\"\n",
        "student.age = 25"
      ],
      "metadata": {
        "id": "SP57wBtRg-D2"
      },
      "execution_count": 5,
      "outputs": []
    },
    {
      "cell_type": "code",
      "source": [
        "print(student.name)\n",
        "print(student.age)"
      ],
      "metadata": {
        "colab": {
          "base_uri": "https://localhost:8080/"
        },
        "id": "jJ026158hBs3",
        "outputId": "e3f41317-b317-4c6f-d7fd-ccce776c4c14"
      },
      "execution_count": 6,
      "outputs": [
        {
          "output_type": "stream",
          "name": "stdout",
          "text": [
            "krish\n",
            "25\n"
          ]
        }
      ]
    },
    {
      "cell_type": "code",
      "source": [
        "student.age = -10"
      ],
      "metadata": {
        "colab": {
          "base_uri": "https://localhost:8080/"
        },
        "id": "r5IRHEERhEEX",
        "outputId": "4e5acca4-95c8-4cde-c9c2-42e291b348b6"
      },
      "execution_count": 7,
      "outputs": [
        {
          "output_type": "stream",
          "name": "stdout",
          "text": [
            "Age must be a positive value.\n"
          ]
        }
      ]
    },
    {
      "cell_type": "code",
      "source": [
        "del student.age\n"
      ],
      "metadata": {
        "id": "FzeJ-_kkhFig"
      },
      "execution_count": 8,
      "outputs": []
    },
    {
      "cell_type": "code",
      "source": [
        "print(student.age)"
      ],
      "metadata": {
        "colab": {
          "base_uri": "https://localhost:8080/",
          "height": 287
        },
        "id": "rTD39zzkhH1w",
        "outputId": "fd75062d-1c6a-492a-910d-fb999d9ea6df"
      },
      "execution_count": 9,
      "outputs": [
        {
          "output_type": "error",
          "ename": "AttributeError",
          "evalue": "ignored",
          "traceback": [
            "\u001b[0;31m---------------------------------------------------------------------------\u001b[0m",
            "\u001b[0;31mAttributeError\u001b[0m                            Traceback (most recent call last)",
            "\u001b[0;32m<ipython-input-9-cf7340376261>\u001b[0m in \u001b[0;36m<cell line: 1>\u001b[0;34m()\u001b[0m\n\u001b[0;32m----> 1\u001b[0;31m \u001b[0mprint\u001b[0m\u001b[0;34m(\u001b[0m\u001b[0mstudent\u001b[0m\u001b[0;34m.\u001b[0m\u001b[0mage\u001b[0m\u001b[0;34m)\u001b[0m\u001b[0;34m\u001b[0m\u001b[0;34m\u001b[0m\u001b[0m\n\u001b[0m",
            "\u001b[0;32m<ipython-input-1-a5750170ed51>\u001b[0m in \u001b[0;36mage\u001b[0;34m(self)\u001b[0m\n\u001b[1;32m     14\u001b[0m     \u001b[0;34m@\u001b[0m\u001b[0mproperty\u001b[0m\u001b[0;34m\u001b[0m\u001b[0;34m\u001b[0m\u001b[0m\n\u001b[1;32m     15\u001b[0m     \u001b[0;32mdef\u001b[0m \u001b[0mage\u001b[0m\u001b[0;34m(\u001b[0m\u001b[0mself\u001b[0m\u001b[0;34m)\u001b[0m\u001b[0;34m:\u001b[0m\u001b[0;34m\u001b[0m\u001b[0;34m\u001b[0m\u001b[0m\n\u001b[0;32m---> 16\u001b[0;31m         \u001b[0;32mreturn\u001b[0m \u001b[0mself\u001b[0m\u001b[0;34m.\u001b[0m\u001b[0m__age\u001b[0m\u001b[0;34m\u001b[0m\u001b[0;34m\u001b[0m\u001b[0m\n\u001b[0m\u001b[1;32m     17\u001b[0m \u001b[0;34m\u001b[0m\u001b[0m\n\u001b[1;32m     18\u001b[0m     \u001b[0;34m@\u001b[0m\u001b[0mage\u001b[0m\u001b[0;34m.\u001b[0m\u001b[0msetter\u001b[0m\u001b[0;34m\u001b[0m\u001b[0;34m\u001b[0m\u001b[0m\n",
            "\u001b[0;31mAttributeError\u001b[0m: 'Student' object has no attribute '_Student__age'"
          ]
        }
      ]
    },
    {
      "cell_type": "markdown",
      "source": [
        "Q5.What is method overriding in python? Write a python code to demonstrate method overriding."
      ],
      "metadata": {
        "id": "ymtY4jsRhTBH"
      }
    },
    {
      "cell_type": "markdown",
      "source": [
        "Method overriding allows a subclass to change or extend the behavior of a method that it inherits from its superclass. It gives the subclass the ability to provide its own version of the method, which can have different functionality or additional actions compared to the superclass's method. This way, each subclass can customize how the method behaves according to its specific requirements"
      ],
      "metadata": {
        "id": "kra91Rv4htTM"
      }
    },
    {
      "cell_type": "code",
      "source": [
        "class Vehicle:\n",
        "    def accelerate(self):\n",
        "        print(\"Vehicle is accelerating.\")\n",
        "\n",
        "class Car(Vehicle):\n",
        "    def accelerate(self):\n",
        "        print(\"Car is accelerating with speed!\")\n",
        "\n",
        "class Bicycle(Vehicle):\n",
        "    pass\n"
      ],
      "metadata": {
        "id": "TpYb5MzKhVQ4"
      },
      "execution_count": 10,
      "outputs": []
    },
    {
      "cell_type": "code",
      "source": [
        "vehicle = Vehicle()\n",
        "car = Car()\n",
        "bicycle = Bicycle()\n"
      ],
      "metadata": {
        "id": "_OfdszTFhhmS"
      },
      "execution_count": 11,
      "outputs": []
    },
    {
      "cell_type": "code",
      "source": [
        "vehicle.accelerate()\n",
        "car.accelerate()\n",
        "bicycle.accelerate()"
      ],
      "metadata": {
        "colab": {
          "base_uri": "https://localhost:8080/"
        },
        "id": "jJ4AIO8EhiEL",
        "outputId": "70e7b12e-f9f5-4d30-aa5a-781d210c3e0e"
      },
      "execution_count": 12,
      "outputs": [
        {
          "output_type": "stream",
          "name": "stdout",
          "text": [
            "Vehicle is accelerating.\n",
            "Car is accelerating with speed!\n",
            "Vehicle is accelerating.\n"
          ]
        }
      ]
    }
  ]
}