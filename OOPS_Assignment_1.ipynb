{
  "nbformat": 4,
  "nbformat_minor": 0,
  "metadata": {
    "colab": {
      "provenance": []
    },
    "kernelspec": {
      "name": "python3",
      "display_name": "Python 3"
    },
    "language_info": {
      "name": "python"
    }
  },
  "cells": [
    {
      "cell_type": "markdown",
      "source": [
        "Q1. Explain Class and Object with respect to Object-Oriented Programming. Give a suitable example."
      ],
      "metadata": {
        "id": "x216HOs_UoK_"
      }
    },
    {
      "cell_type": "markdown",
      "source": [
        "A class is the is the template that is used to create a particular object a class defines all the properties a particular object will have. A object is the instance of the class that is used to store the data with respect to the particular class."
      ],
      "metadata": {
        "id": "rYolXSlXU4SL"
      }
    },
    {
      "cell_type": "code",
      "execution_count": 6,
      "metadata": {
        "id": "spnzw3veUk9Q"
      },
      "outputs": [],
      "source": [
        "class Student:\n",
        "    def __init__(self, name, age):\n",
        "        self.name = name\n",
        "        self.age = age\n",
        "#here we define all the methods that we want in a particular class"
      ]
    },
    {
      "cell_type": "code",
      "source": [
        "stu1 = Student(\"Shashwat\",23) # this is the object of the class Student"
      ],
      "metadata": {
        "id": "j20bi6x4Umnn"
      },
      "execution_count": 7,
      "outputs": []
    },
    {
      "cell_type": "code",
      "source": [
        "stu1.name"
      ],
      "metadata": {
        "colab": {
          "base_uri": "https://localhost:8080/",
          "height": 36
        },
        "id": "wzPmdS9ZWUSi",
        "outputId": "52063e0a-58bd-41f8-ae17-71945a6ec182"
      },
      "execution_count": 9,
      "outputs": [
        {
          "output_type": "execute_result",
          "data": {
            "text/plain": [
              "'Shashwat'"
            ],
            "application/vnd.google.colaboratory.intrinsic+json": {
              "type": "string"
            }
          },
          "metadata": {},
          "execution_count": 9
        }
      ]
    },
    {
      "cell_type": "code",
      "source": [
        "stu1.age"
      ],
      "metadata": {
        "colab": {
          "base_uri": "https://localhost:8080/"
        },
        "id": "tgvOz01kWYfa",
        "outputId": "6cf87d9f-d519-4ad0-8e6a-9aa43231238c"
      },
      "execution_count": 11,
      "outputs": [
        {
          "output_type": "execute_result",
          "data": {
            "text/plain": [
              "23"
            ]
          },
          "metadata": {},
          "execution_count": 11
        }
      ]
    },
    {
      "cell_type": "markdown",
      "source": [
        "Q2. Name the four pillars of OOPs."
      ],
      "metadata": {
        "id": "LG3rYGNFWiU0"
      }
    },
    {
      "cell_type": "markdown",
      "source": [
        "The 4 pillars of object oriented programming are:\n",
        "\n",
        "\n",
        "1.   Encapsulation: Here we try to combine and bundle various methods together within a class. It helps to achive security by not allowing the direct acess to the internal data.\n",
        "\n",
        "2.   Inheritance: This is the mechanism that allows the different classes to inherit properties from the other classes and it promotes creation of hirarchical relations in the code between various classes.\n",
        "\n",
        "3.   Polymorphism: It allows us to use a same method in a different way. The way method is to be used is determined at the runtime it helps promote code flexibility.\n",
        "\n",
        "4.   Absctraction: Here we try to hide the unecessary details from the users it focuses on the interfaces and not the implementation.\n",
        "\n",
        "\n",
        "\n",
        "\n",
        "\n"
      ],
      "metadata": {
        "id": "EThO4EqSWlVs"
      }
    },
    {
      "cell_type": "markdown",
      "source": [
        "Q3. Explain why the __init__() function is used. Give a suitable example."
      ],
      "metadata": {
        "id": "Lt-oJ2faYcSJ"
      }
    },
    {
      "cell_type": "markdown",
      "source": [
        "The  __ init__() method is used in creation of object from the particular class . It can also help us to initialize the parameters so that we can use them in the code and also accept the parameters during object creation."
      ],
      "metadata": {
        "id": "IcdVi4SvYmxx"
      }
    },
    {
      "cell_type": "code",
      "source": [
        "class Person:\n",
        "    def __init__(self,name,job):\n",
        "        self.name = name\n",
        "        self.job  = job\n",
        "    def intro(self):\n",
        "        print(f\"My Name is {self.name} and my job is {self.job}\")\n"
      ],
      "metadata": {
        "id": "Q-sbqj7aYjEy"
      },
      "execution_count": 12,
      "outputs": []
    },
    {
      "cell_type": "code",
      "source": [
        "a = Person(\"Shashwat\", \"Data Scienctist\")"
      ],
      "metadata": {
        "id": "CvG4NSorZ6Nh"
      },
      "execution_count": 13,
      "outputs": []
    },
    {
      "cell_type": "code",
      "source": [
        "a.intro()"
      ],
      "metadata": {
        "colab": {
          "base_uri": "https://localhost:8080/"
        },
        "id": "rMdVKUtjaCt5",
        "outputId": "36728f9c-6821-4979-9b98-9a9c6cfe0753"
      },
      "execution_count": 15,
      "outputs": [
        {
          "output_type": "stream",
          "name": "stdout",
          "text": [
            "My Name is Shashwat and my job is Data Scienctist\n"
          ]
        }
      ]
    },
    {
      "cell_type": "markdown",
      "source": [
        "Q4 .Why self is used in OOPs?"
      ],
      "metadata": {
        "id": "8lpYeLfTaKF0"
      }
    },
    {
      "cell_type": "markdown",
      "source": [
        "Th self keyword is used to bind the pariticular method to the class . It is the first parameter passed to methods in Python classes, including special methods like __ init __(). The purpose of self is to differentiate between instance variables (attributes) and local variables within a method, ensuring that the correct instance variables are accessed and modified."
      ],
      "metadata": {
        "id": "ARvxuQCaaUSU"
      }
    },
    {
      "cell_type": "markdown",
      "source": [
        "Q5 . What is inheritance? Give an example for each type of inheritance."
      ],
      "metadata": {
        "id": "YlOrNrSaajGO"
      }
    },
    {
      "cell_type": "markdown",
      "source": [
        "Inheritance is a concept in object-oriented programming that allows a class to inherit properties and behaviors from another class. The class that inherits is called the child class, derived class, or subclass, while the class being inherited from is called the parent class, base class, or superclass. Inheritance promotes code reuse, modularity, and the creation of hierarchical relationships between classes."
      ],
      "metadata": {
        "id": "Z1ffEO46al2d"
      }
    },
    {
      "cell_type": "code",
      "source": [
        "#MULTIPLE INHERITANCE\n",
        "class Animal:\n",
        "    def breathe(self):\n",
        "        print(\"Breathing...\")\n",
        "\n",
        "class Canine:\n",
        "    def bark(self):\n",
        "        print(\"Woof!\")\n",
        "\n",
        "class Dog(Animal, Canine):\n",
        "    def wag_tail(self):\n",
        "        print(\"Tail wagging...\")"
      ],
      "metadata": {
        "id": "dIWl4ClebDcC"
      },
      "execution_count": 21,
      "outputs": []
    },
    {
      "cell_type": "code",
      "source": [
        "dog = Dog()"
      ],
      "metadata": {
        "id": "UAJYcI9TbMJp"
      },
      "execution_count": 17,
      "outputs": []
    },
    {
      "cell_type": "code",
      "source": [
        "dog.breathe()"
      ],
      "metadata": {
        "colab": {
          "base_uri": "https://localhost:8080/"
        },
        "id": "44rIMuuubQHy",
        "outputId": "5cf9889b-4d55-46b2-a431-f85508dee310"
      },
      "execution_count": 18,
      "outputs": [
        {
          "output_type": "stream",
          "name": "stdout",
          "text": [
            "Breathing...\n"
          ]
        }
      ]
    },
    {
      "cell_type": "code",
      "source": [
        "dog.bark()"
      ],
      "metadata": {
        "colab": {
          "base_uri": "https://localhost:8080/"
        },
        "id": "4H39e9_kbTVa",
        "outputId": "19c64bab-5b90-458c-b3e4-a4c63cb2478e"
      },
      "execution_count": 19,
      "outputs": [
        {
          "output_type": "stream",
          "name": "stdout",
          "text": [
            "Woof!\n"
          ]
        }
      ]
    },
    {
      "cell_type": "code",
      "source": [
        "dog.wag_tail()"
      ],
      "metadata": {
        "colab": {
          "base_uri": "https://localhost:8080/"
        },
        "id": "-Zm2THxibUir",
        "outputId": "c9039179-b425-4a26-edf6-139377152268"
      },
      "execution_count": 20,
      "outputs": [
        {
          "output_type": "stream",
          "name": "stdout",
          "text": [
            "Tail wagging...\n"
          ]
        }
      ]
    },
    {
      "cell_type": "code",
      "source": [
        "#MULTILEVEL INHERITANCE\n",
        "class Animal:\n",
        "    def breathe(self):\n",
        "        print(\"Breathing...\")\n",
        "\n",
        "class Mammal(Animal):\n",
        "    def feed_milk(self):\n",
        "        print(\"Feeding milk...\")\n",
        "\n",
        "class Dog(Mammal):\n",
        "    def bark(self):\n",
        "        print(\"Woof!\")\n"
      ],
      "metadata": {
        "id": "-3Ag_plybgy8"
      },
      "execution_count": 22,
      "outputs": []
    },
    {
      "cell_type": "code",
      "source": [
        "dog = Dog()"
      ],
      "metadata": {
        "id": "BAJUjGDPbsYN"
      },
      "execution_count": 23,
      "outputs": []
    },
    {
      "cell_type": "code",
      "source": [
        "dog.breathe()"
      ],
      "metadata": {
        "colab": {
          "base_uri": "https://localhost:8080/"
        },
        "id": "96daPpjIbtbF",
        "outputId": "cd808f2c-c8c0-48a6-8a0f-3bb20d119bdd"
      },
      "execution_count": 24,
      "outputs": [
        {
          "output_type": "stream",
          "name": "stdout",
          "text": [
            "Breathing...\n"
          ]
        }
      ]
    },
    {
      "cell_type": "code",
      "source": [
        "dog.feed_milk()"
      ],
      "metadata": {
        "colab": {
          "base_uri": "https://localhost:8080/"
        },
        "id": "jmVclHfgbxpl",
        "outputId": "8e950e66-7ea8-40b8-ac15-685007ab1887"
      },
      "execution_count": 25,
      "outputs": [
        {
          "output_type": "stream",
          "name": "stdout",
          "text": [
            "Feeding milk...\n"
          ]
        }
      ]
    },
    {
      "cell_type": "code",
      "source": [
        "dog.bark()"
      ],
      "metadata": {
        "colab": {
          "base_uri": "https://localhost:8080/"
        },
        "id": "qlUgYXCVbzId",
        "outputId": "fe96b9e3-af75-4498-a54c-ba506eb1f62f"
      },
      "execution_count": 26,
      "outputs": [
        {
          "output_type": "stream",
          "name": "stdout",
          "text": [
            "Woof!\n"
          ]
        }
      ]
    }
  ]
}