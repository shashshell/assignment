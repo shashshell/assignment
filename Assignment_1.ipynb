{
  "nbformat": 4,
  "nbformat_minor": 0,
  "metadata": {
    "colab": {
      "provenance": []
    },
    "kernelspec": {
      "name": "python3",
      "display_name": "Python 3"
    },
    "language_info": {
      "name": "python"
    }
  },
  "cells": [
    {
      "cell_type": "markdown",
      "source": [
        "Q1. Create one variable containing following type of data:\n",
        "(i) string\n",
        "(ii) list\n",
        "(iii) float\n",
        "(iv) tuple"
      ],
      "metadata": {
        "id": "77O15MVTRIST"
      }
    },
    {
      "cell_type": "code",
      "source": [
        "str = \"shashwat\"\n",
        "print(type(str))"
      ],
      "metadata": {
        "colab": {
          "base_uri": "https://localhost:8080/"
        },
        "id": "9xpp4DNQRCyj",
        "outputId": "56efc9fb-9368-402e-d65f-4bac201f92c1"
      },
      "execution_count": 1,
      "outputs": [
        {
          "output_type": "stream",
          "name": "stdout",
          "text": [
            "<class 'str'>\n"
          ]
        }
      ]
    },
    {
      "cell_type": "code",
      "source": [
        "ls = [1,2,3,4,5]\n",
        "print(type(ls))"
      ],
      "metadata": {
        "colab": {
          "base_uri": "https://localhost:8080/"
        },
        "id": "rI0jo3X8ROod",
        "outputId": "369320d5-a0ec-472b-c0be-d01e4dc91519"
      },
      "execution_count": 2,
      "outputs": [
        {
          "output_type": "stream",
          "name": "stdout",
          "text": [
            "<class 'list'>\n"
          ]
        }
      ]
    },
    {
      "cell_type": "code",
      "source": [
        "fl = 2.82\n",
        "print(type(fl))"
      ],
      "metadata": {
        "colab": {
          "base_uri": "https://localhost:8080/"
        },
        "id": "bhnfQguFRUV0",
        "outputId": "c8fc4107-c96f-47df-c114-463a864912db"
      },
      "execution_count": 3,
      "outputs": [
        {
          "output_type": "stream",
          "name": "stdout",
          "text": [
            "<class 'float'>\n"
          ]
        }
      ]
    },
    {
      "cell_type": "code",
      "source": [
        "tp = (1,2,3)\n",
        "print(type(tp))"
      ],
      "metadata": {
        "colab": {
          "base_uri": "https://localhost:8080/"
        },
        "id": "Z3aE87D6RW0d",
        "outputId": "d77362d4-1834-48e4-d304-1918c652178d"
      },
      "execution_count": 4,
      "outputs": [
        {
          "output_type": "stream",
          "name": "stdout",
          "text": [
            "<class 'tuple'>\n"
          ]
        }
      ]
    },
    {
      "cell_type": "markdown",
      "source": [
        "Q2. Given are some following variables containing data:\n",
        "(i) var1 = ‘ ‘\n",
        "(ii) var2 = ‘[ DS , ML , Python]’\n",
        "(iii) var3 = [ ‘DS’ , ’ML’ , ‘Python’ ]\n",
        "(iv) var4 = 1.\n",
        "\n",
        "What will be the data type of the above given variable.\n",
        "\n"
      ],
      "metadata": {
        "id": "HRhWiltVRmgI"
      }
    },
    {
      "cell_type": "code",
      "source": [
        "var1 = ''\n",
        "print(type(var1))"
      ],
      "metadata": {
        "colab": {
          "base_uri": "https://localhost:8080/"
        },
        "id": "ZiQF4STfRpe_",
        "outputId": "73d600cc-e555-46ef-d928-90869dd0547f"
      },
      "execution_count": 5,
      "outputs": [
        {
          "output_type": "stream",
          "name": "stdout",
          "text": [
            "<class 'str'>\n"
          ]
        }
      ]
    },
    {
      "cell_type": "code",
      "source": [
        "var2 = '[ DS , ML , Python]'\n",
        "print(type(var2))"
      ],
      "metadata": {
        "colab": {
          "base_uri": "https://localhost:8080/"
        },
        "id": "LQo4b66KSFD_",
        "outputId": "e93097e8-2030-41e3-deb5-2264147db067"
      },
      "execution_count": 12,
      "outputs": [
        {
          "output_type": "stream",
          "name": "stdout",
          "text": [
            "<class 'str'>\n"
          ]
        }
      ]
    },
    {
      "cell_type": "code",
      "source": [
        "var3 = [ 'DS' , 'ML' , 'Python' ] \n",
        "print(type(var3))"
      ],
      "metadata": {
        "colab": {
          "base_uri": "https://localhost:8080/"
        },
        "id": "mt9kyIJRSGv4",
        "outputId": "5e0006e2-4ae9-42c6-c87f-8b21a183474b"
      },
      "execution_count": 11,
      "outputs": [
        {
          "output_type": "stream",
          "name": "stdout",
          "text": [
            "<class 'list'>\n"
          ]
        }
      ]
    },
    {
      "cell_type": "code",
      "source": [
        "var4 = 1.\n",
        "print(type(var4))"
      ],
      "metadata": {
        "colab": {
          "base_uri": "https://localhost:8080/"
        },
        "id": "LMz49qZgSJ8g",
        "outputId": "8a827b13-7d1c-4cbe-a3f3-59cd9186f368"
      },
      "execution_count": 13,
      "outputs": [
        {
          "output_type": "stream",
          "name": "stdout",
          "text": [
            "<class 'float'>\n"
          ]
        }
      ]
    },
    {
      "cell_type": "markdown",
      "source": [
        "Q3. Explain the use of the following operators using an example:\n",
        "(i) /\n",
        "(ii) %\n",
        "(iii) //\n",
        "(iv) **"
      ],
      "metadata": {
        "id": "Mhdckd4mSn8O"
      }
    },
    {
      "cell_type": "code",
      "source": [
        "a = 20\n",
        "b = 4"
      ],
      "metadata": {
        "id": "eyoS_SOpSp11"
      },
      "execution_count": 15,
      "outputs": []
    },
    {
      "cell_type": "code",
      "source": [
        "a/b"
      ],
      "metadata": {
        "colab": {
          "base_uri": "https://localhost:8080/"
        },
        "id": "_tQhPHeVSp_0",
        "outputId": "0275e035-db9a-4c77-d7e8-47a885572b57"
      },
      "execution_count": 16,
      "outputs": [
        {
          "output_type": "execute_result",
          "data": {
            "text/plain": [
              "5.0"
            ]
          },
          "metadata": {},
          "execution_count": 16
        }
      ]
    },
    {
      "cell_type": "code",
      "source": [
        "a%b "
      ],
      "metadata": {
        "colab": {
          "base_uri": "https://localhost:8080/"
        },
        "id": "WsygGEmsSyyu",
        "outputId": "bab0c53b-3057-43a1-f3e8-1848212e4685"
      },
      "execution_count": 17,
      "outputs": [
        {
          "output_type": "execute_result",
          "data": {
            "text/plain": [
              "0"
            ]
          },
          "metadata": {},
          "execution_count": 17
        }
      ]
    },
    {
      "cell_type": "code",
      "source": [
        "a//b"
      ],
      "metadata": {
        "colab": {
          "base_uri": "https://localhost:8080/"
        },
        "id": "Ka1fKI2US0KG",
        "outputId": "0d085a53-ba44-459b-c05e-2d32827fbbd7"
      },
      "execution_count": 18,
      "outputs": [
        {
          "output_type": "execute_result",
          "data": {
            "text/plain": [
              "5"
            ]
          },
          "metadata": {},
          "execution_count": 18
        }
      ]
    },
    {
      "cell_type": "code",
      "source": [
        "a**b"
      ],
      "metadata": {
        "colab": {
          "base_uri": "https://localhost:8080/"
        },
        "id": "SCMpTKodS1kP",
        "outputId": "1927d583-5c6e-4e3a-8605-0da861efb6fc"
      },
      "execution_count": 19,
      "outputs": [
        {
          "output_type": "execute_result",
          "data": {
            "text/plain": [
              "160000"
            ]
          },
          "metadata": {},
          "execution_count": 19
        }
      ]
    },
    {
      "cell_type": "markdown",
      "source": [
        "Q4. Create a list of length 10 of your choice containing multiple types of data. Using for loop print the\n",
        "element and its data type."
      ],
      "metadata": {
        "id": "2wozS5JUS9KQ"
      }
    },
    {
      "cell_type": "code",
      "source": [
        "list_of_items = [\"shash\", 2.85 , [4,5] , True , 56, 'resh', 3.14 , (6,9),24 , 4.5] \n",
        "print(len(list_of_items))"
      ],
      "metadata": {
        "colab": {
          "base_uri": "https://localhost:8080/"
        },
        "id": "BwxmWtsXTBDQ",
        "outputId": "75af4b57-d8d9-49e5-eae0-528b49fae74c"
      },
      "execution_count": 21,
      "outputs": [
        {
          "output_type": "stream",
          "name": "stdout",
          "text": [
            "10\n"
          ]
        }
      ]
    },
    {
      "cell_type": "code",
      "source": [
        "for i in list_of_items:\n",
        "   print(f\"Element: {i} \\t Data Type: {type(i)}\")"
      ],
      "metadata": {
        "colab": {
          "base_uri": "https://localhost:8080/"
        },
        "id": "LAP6cFg7Tn29",
        "outputId": "b05227c8-0dab-4b33-9730-49207819e3f4"
      },
      "execution_count": 25,
      "outputs": [
        {
          "output_type": "stream",
          "name": "stdout",
          "text": [
            "Element: shash \t Data Type: <class 'str'>\n",
            "Element: 2.85 \t Data Type: <class 'float'>\n",
            "Element: [4, 5] \t Data Type: <class 'list'>\n",
            "Element: True \t Data Type: <class 'bool'>\n",
            "Element: 56 \t Data Type: <class 'int'>\n",
            "Element: resh \t Data Type: <class 'str'>\n",
            "Element: 3.14 \t Data Type: <class 'float'>\n",
            "Element: (6, 9) \t Data Type: <class 'tuple'>\n",
            "Element: 24 \t Data Type: <class 'int'>\n",
            "Element: 4.5 \t Data Type: <class 'float'>\n"
          ]
        }
      ]
    },
    {
      "cell_type": "markdown",
      "source": [
        "Q5. Using a while loop, verify if the number A is purely divisible by number B and if so then how many\n",
        "times it can be divisible."
      ],
      "metadata": {
        "id": "SOd29BYCUCI2"
      }
    },
    {
      "cell_type": "code",
      "source": [
        "A = int(input(\"Enter 1st number \"))\n",
        "B = int(input(\"Enter 2nd number\"))\n",
        "count = 0\n",
        "while A % B == 0:\n",
        "    A = A // B  \n",
        "    count += 1\n",
        "print(f\"A is divisible by B {count} times.\")"
      ],
      "metadata": {
        "colab": {
          "base_uri": "https://localhost:8080/"
        },
        "id": "kOnLTEUmULFR",
        "outputId": "f5318502-73e6-4509-cf3e-eba8ec56567c"
      },
      "execution_count": 35,
      "outputs": [
        {
          "output_type": "stream",
          "name": "stdout",
          "text": [
            "Enter 1st number 20\n",
            "Enter 2nd number4\n",
            "A is divisible by B 1 times.\n"
          ]
        }
      ]
    },
    {
      "cell_type": "markdown",
      "source": [
        "Q6. Create a list containing 25 int type data. Using for loop and if-else condition print if the element is\n",
        "divisible by 3 or not."
      ],
      "metadata": {
        "id": "GcQWcvQ1X26n"
      }
    },
    {
      "cell_type": "code",
      "source": [
        "list_data = [1, 2, 3, 4, 5, 6, 7, 8, 9, 10,\n",
        "                  11, 12, 13, 14, 15, 16, 17, 18, 19, 20,\n",
        "                  21, 22, 23, 24, 25]\n",
        "for i in list_data :\n",
        "  if i%3 ==0:\n",
        "    print(f\"{i}is divisible by 3\")\n",
        "  else:\n",
        "    print(f\"{i}is not divisible by 3\")"
      ],
      "metadata": {
        "colab": {
          "base_uri": "https://localhost:8080/"
        },
        "id": "OQZGYaCMWCJE",
        "outputId": "57fe6ecb-5408-4796-88c2-db9aea0e10e5"
      },
      "execution_count": 37,
      "outputs": [
        {
          "output_type": "stream",
          "name": "stdout",
          "text": [
            "1is not divisible by 3\n",
            "2is not divisible by 3\n",
            "3is divisible by 3\n",
            "4is not divisible by 3\n",
            "5is not divisible by 3\n",
            "6is divisible by 3\n",
            "7is not divisible by 3\n",
            "8is not divisible by 3\n",
            "9is divisible by 3\n",
            "10is not divisible by 3\n",
            "11is not divisible by 3\n",
            "12is divisible by 3\n",
            "13is not divisible by 3\n",
            "14is not divisible by 3\n",
            "15is divisible by 3\n",
            "16is not divisible by 3\n",
            "17is not divisible by 3\n",
            "18is divisible by 3\n",
            "19is not divisible by 3\n",
            "20is not divisible by 3\n",
            "21is divisible by 3\n",
            "22is not divisible by 3\n",
            "23is not divisible by 3\n",
            "24is divisible by 3\n",
            "25is not divisible by 3\n"
          ]
        }
      ]
    },
    {
      "cell_type": "markdown",
      "source": [
        "Q7.What do you understand about mutable and immutable data types? Give examples for both showing this property."
      ],
      "metadata": {
        "id": "Bj63TkGGY9Zf"
      }
    },
    {
      "cell_type": "code",
      "source": [
        "a  = \"shash\"\n",
        "print(a[3])"
      ],
      "metadata": {
        "colab": {
          "base_uri": "https://localhost:8080/"
        },
        "id": "l1ZLK7r8ZNAS",
        "outputId": "bef6e5d0-a7d0-4424-efb2-70fa7fb2d2cb"
      },
      "execution_count": 40,
      "outputs": [
        {
          "output_type": "stream",
          "name": "stdout",
          "text": [
            "s\n"
          ]
        }
      ]
    },
    {
      "cell_type": "code",
      "source": [
        "a[3] = \"l\" #gives error"
      ],
      "metadata": {
        "colab": {
          "base_uri": "https://localhost:8080/",
          "height": 165
        },
        "id": "DyhRw6CeZp52",
        "outputId": "a4158868-17ad-462e-e00d-7af705226bce"
      },
      "execution_count": 41,
      "outputs": [
        {
          "output_type": "error",
          "ename": "TypeError",
          "evalue": "ignored",
          "traceback": [
            "\u001b[0;31m---------------------------------------------------------------------------\u001b[0m",
            "\u001b[0;31mTypeError\u001b[0m                                 Traceback (most recent call last)",
            "\u001b[0;32m<ipython-input-41-e9fc1e12fa74>\u001b[0m in \u001b[0;36m<cell line: 1>\u001b[0;34m()\u001b[0m\n\u001b[0;32m----> 1\u001b[0;31m \u001b[0ma\u001b[0m\u001b[0;34m[\u001b[0m\u001b[0;36m3\u001b[0m\u001b[0;34m]\u001b[0m \u001b[0;34m=\u001b[0m \u001b[0;34m\"l\"\u001b[0m\u001b[0;34m\u001b[0m\u001b[0;34m\u001b[0m\u001b[0m\n\u001b[0m",
            "\u001b[0;31mTypeError\u001b[0m: 'str' object does not support item assignment"
          ]
        }
      ]
    },
    {
      "cell_type": "code",
      "source": [
        "li = [ 1,2,3,4,5]\n",
        "li[2]"
      ],
      "metadata": {
        "colab": {
          "base_uri": "https://localhost:8080/"
        },
        "id": "0nhRdpQUZw3e",
        "outputId": "16c2cf89-f294-4666-da38-e4b58372238c"
      },
      "execution_count": 42,
      "outputs": [
        {
          "output_type": "execute_result",
          "data": {
            "text/plain": [
              "3"
            ]
          },
          "metadata": {},
          "execution_count": 42
        }
      ]
    },
    {
      "cell_type": "code",
      "source": [
        "li[2] = 5\n",
        "li[2]"
      ],
      "metadata": {
        "colab": {
          "base_uri": "https://localhost:8080/"
        },
        "id": "qPRyh3a4Z2QO",
        "outputId": "2d75efc6-9c53-4c1b-e13c-b05ffc91103e"
      },
      "execution_count": 44,
      "outputs": [
        {
          "output_type": "execute_result",
          "data": {
            "text/plain": [
              "5"
            ]
          },
          "metadata": {},
          "execution_count": 44
        }
      ]
    }
  ]
}