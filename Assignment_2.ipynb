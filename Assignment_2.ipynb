{
  "nbformat": 4,
  "nbformat_minor": 0,
  "metadata": {
    "colab": {
      "provenance": []
    },
    "kernelspec": {
      "name": "python3",
      "display_name": "Python 3"
    },
    "language_info": {
      "name": "python"
    }
  },
  "cells": [
    {
      "cell_type": "markdown",
      "source": [
        "Q1. How do you comment code in Python? What are the different types of comments?\n"
      ],
      "metadata": {
        "id": "UGND3Hw-JrkS"
      }
    },
    {
      "cell_type": "code",
      "execution_count": null,
      "metadata": {
        "colab": {
          "base_uri": "https://localhost:8080/"
        },
        "id": "p1UjEcGe85m-",
        "outputId": "a6d47c42-5cef-49cf-c5dc-7d39eb2d782d"
      },
      "outputs": [
        {
          "output_type": "stream",
          "name": "stdout",
          "text": [
            "hello\n"
          ]
        }
      ],
      "source": [
        "#this is a single line comment in python(doesnt get printed)\n",
        "print(\"hello\") "
      ]
    },
    {
      "cell_type": "code",
      "source": [
        "\"\"\"\n",
        "This is a\n",
        "multi-line comment\n",
        "in Python\n",
        "\"\"\"\n",
        "print(\"world\")"
      ],
      "metadata": {
        "colab": {
          "base_uri": "https://localhost:8080/"
        },
        "id": "fry3ubqKKCXq",
        "outputId": "c4f856b2-1b40-4d90-ff71-7e99023347d1"
      },
      "execution_count": null,
      "outputs": [
        {
          "output_type": "stream",
          "name": "stdout",
          "text": [
            "world\n"
          ]
        }
      ]
    },
    {
      "cell_type": "markdown",
      "source": [
        "Q2 . What are variables in Python? How do you declare and assign values to variables?"
      ],
      "metadata": {
        "id": "jFJ9qYxgJqm2"
      }
    },
    {
      "cell_type": "markdown",
      "source": [
        "Variables are used to store data in python.They can create a area in memory and save the particular value there so that it can be referenced later on.In python we do not need to define the type of our variable it is automatically detected"
      ],
      "metadata": {
        "id": "l6fcMkwhLJP4"
      }
    },
    {
      "cell_type": "code",
      "source": [
        "v1 = 45\n",
        "print(type(v1))"
      ],
      "metadata": {
        "colab": {
          "base_uri": "https://localhost:8080/"
        },
        "id": "M4zLtrkYKn5J",
        "outputId": "0b282c93-4508-49f3-f012-71ce562aeeed"
      },
      "execution_count": null,
      "outputs": [
        {
          "output_type": "stream",
          "name": "stdout",
          "text": [
            "<class 'int'>\n"
          ]
        }
      ]
    },
    {
      "cell_type": "code",
      "source": [
        "v2 = \"str\"\n",
        "print(type(v2))"
      ],
      "metadata": {
        "colab": {
          "base_uri": "https://localhost:8080/"
        },
        "id": "tUDW6T8eLz4Z",
        "outputId": "0f383f2c-03f8-4108-b13c-f26434f18e7d"
      },
      "execution_count": null,
      "outputs": [
        {
          "output_type": "stream",
          "name": "stdout",
          "text": [
            "<class 'str'>\n"
          ]
        }
      ]
    },
    {
      "cell_type": "code",
      "source": [
        "v3 = 4.20\n",
        "print(type(v3))"
      ],
      "metadata": {
        "colab": {
          "base_uri": "https://localhost:8080/"
        },
        "id": "OE91cYnPL2OS",
        "outputId": "30d653cf-fdd7-45cb-ba56-fad71bc5faa6"
      },
      "execution_count": null,
      "outputs": [
        {
          "output_type": "stream",
          "name": "stdout",
          "text": [
            "<class 'float'>\n"
          ]
        }
      ]
    },
    {
      "cell_type": "markdown",
      "source": [
        "Q3 .How do you convert one data type to another in Python?"
      ],
      "metadata": {
        "id": "jzymj-aL9_u4"
      }
    },
    {
      "cell_type": "code",
      "source": [
        "x = 5.27\n",
        "b = \"shsh\"\n",
        "z = int(x)\n",
        "a = list(b)\n",
        "print(x, type(x))\n",
        "print(z, type(z)) \n",
        "print(a, type(a))"
      ],
      "metadata": {
        "colab": {
          "base_uri": "https://localhost:8080/"
        },
        "id": "FJl3vxQl-Epu",
        "outputId": "7d78adb3-6152-41bd-b9a0-49a8f33d3ce3"
      },
      "execution_count": 22,
      "outputs": [
        {
          "output_type": "stream",
          "name": "stdout",
          "text": [
            "5.27 <class 'float'>\n",
            "5 <class 'int'>\n",
            "['s', 'h', 's', 'h'] <class 'list'>\n"
          ]
        }
      ]
    },
    {
      "cell_type": "markdown",
      "source": [
        "Q4. How do you write and execute a Python script from the command line?"
      ],
      "metadata": {
        "id": "KzfXKgYf5hNi"
      }
    },
    {
      "cell_type": "markdown",
      "source": [
        "After we save the file in .py extention we can go to the command line and type \"python name_of_file.py\" in the command line we can execute the script\n",
        "\n",
        "![hello.png](data:image/png;base64,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)\n",
        "![image.png](data:image/png;base64,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)"
      ],
      "metadata": {
        "id": "PGpDFFy45kZn"
      }
    },
    {
      "cell_type": "markdown",
      "source": [
        "Q5.Given a list my_list = [1, 2, 3, 4, 5], write the code to slice the list and obtain the sub-list [2, 3]."
      ],
      "metadata": {
        "id": "E8HmyATV7A-A"
      }
    },
    {
      "cell_type": "code",
      "source": [
        "my_list = [1,2,3,4,5]\n",
        "sub_list = my_list[1:3]\n",
        "print(sub_list)"
      ],
      "metadata": {
        "colab": {
          "base_uri": "https://localhost:8080/"
        },
        "id": "ZjRDPjoE7Iob",
        "outputId": "56952a68-24b2-45eb-d0e0-dcc889b984d3"
      },
      "execution_count": 2,
      "outputs": [
        {
          "output_type": "stream",
          "name": "stdout",
          "text": [
            "[2, 3]\n"
          ]
        }
      ]
    },
    {
      "cell_type": "markdown",
      "source": [
        "Q6. What is a complex number in mathematics, and how is it represented in Python?"
      ],
      "metadata": {
        "id": "OQG8xlH27n3i"
      }
    },
    {
      "cell_type": "markdown",
      "source": [
        "A complex number is a number that can be expressed in the form \"a + bi\", where \"a\" and \"b\" are real numbers, and \"i\" is the imaginary unit defined as the square root of \"-1\". The real part \"a\" represents the real numbers, and the imaginary part \"b\" represents the multiples of the imaginary unit i."
      ],
      "metadata": {
        "id": "wpaVXttd79DL"
      }
    },
    {
      "cell_type": "code",
      "source": [
        "comp_no = 5+4j\n",
        "print(type(comp_no))"
      ],
      "metadata": {
        "colab": {
          "base_uri": "https://localhost:8080/"
        },
        "id": "bonvbKLV7vHv",
        "outputId": "edecf040-74a1-4a5d-c536-3af5a540eeae"
      },
      "execution_count": 3,
      "outputs": [
        {
          "output_type": "stream",
          "name": "stdout",
          "text": [
            "<class 'complex'>\n"
          ]
        }
      ]
    },
    {
      "cell_type": "markdown",
      "source": [
        "Q7 . What is the correct way to declare a variable named age and assign the value 25 to it?"
      ],
      "metadata": {
        "id": "y4Xlk4JN8X3i"
      }
    },
    {
      "cell_type": "code",
      "source": [
        "age = 25\n",
        "print(age)\n",
        "print(type(age))"
      ],
      "metadata": {
        "colab": {
          "base_uri": "https://localhost:8080/"
        },
        "id": "buL6zNHx8dRw",
        "outputId": "b5ff650a-c7e1-4cd3-fbca-a57a85da9fba"
      },
      "execution_count": 4,
      "outputs": [
        {
          "output_type": "stream",
          "name": "stdout",
          "text": [
            "25\n",
            "<class 'int'>\n"
          ]
        }
      ]
    },
    {
      "cell_type": "markdown",
      "source": [
        "Q8. Declare a variable named price and assign the value 9.99 to it. What data type does this variable\n",
        "belong to?"
      ],
      "metadata": {
        "id": "iEunPBPl8r-x"
      }
    },
    {
      "cell_type": "code",
      "source": [
        "price  = 9.99\n",
        "print(type(price))"
      ],
      "metadata": {
        "colab": {
          "base_uri": "https://localhost:8080/"
        },
        "id": "JPwupeMM8tYO",
        "outputId": "e9de3c79-a750-4d37-dded-b68b671f3fdf"
      },
      "execution_count": 5,
      "outputs": [
        {
          "output_type": "stream",
          "name": "stdout",
          "text": [
            "<class 'float'>\n"
          ]
        }
      ]
    },
    {
      "cell_type": "markdown",
      "source": [
        "Q9. Create a variable named name and assign your full name to it as a string. How would you print the\n",
        "value of this variable?"
      ],
      "metadata": {
        "id": "j1rcWEAa83oI"
      }
    },
    {
      "cell_type": "code",
      "source": [
        "name = \"Shashwat Reshme\"\n",
        "print(name)\n",
        "print(type(name))"
      ],
      "metadata": {
        "colab": {
          "base_uri": "https://localhost:8080/"
        },
        "id": "65Bw3E9Q84s5",
        "outputId": "7b5f70e1-be27-410a-cd39-5a9371dbfe5f"
      },
      "execution_count": 6,
      "outputs": [
        {
          "output_type": "stream",
          "name": "stdout",
          "text": [
            "Shashwat Reshme\n",
            "<class 'str'>\n"
          ]
        }
      ]
    },
    {
      "cell_type": "markdown",
      "source": [
        "Q10. Given the string \"Hello, World!\", extract the substring \"World\".\n"
      ],
      "metadata": {
        "id": "mWnzzmud9IRN"
      }
    },
    {
      "cell_type": "code",
      "source": [
        "str = \"Hello, World!\"\n",
        "print(str[7:12])"
      ],
      "metadata": {
        "colab": {
          "base_uri": "https://localhost:8080/"
        },
        "id": "2OvYpLOk9L-_",
        "outputId": "c36b1401-fe59-419b-9bae-d76ce8967ca3"
      },
      "execution_count": 9,
      "outputs": [
        {
          "output_type": "stream",
          "name": "stdout",
          "text": [
            "World\n"
          ]
        }
      ]
    },
    {
      "cell_type": "markdown",
      "source": [
        "Q11 . Create a variable named \"is_student\" and assign it a boolean value indicating whether you are\n",
        "currently a student or not."
      ],
      "metadata": {
        "id": "d8chq1bS9nPP"
      }
    },
    {
      "cell_type": "code",
      "source": [
        "is_student = True\n",
        "print(is_student)"
      ],
      "metadata": {
        "colab": {
          "base_uri": "https://localhost:8080/"
        },
        "id": "fQ-I-NXI93Zw",
        "outputId": "68b69da3-6247-4b41-84e6-1046bbfe8875"
      },
      "execution_count": 10,
      "outputs": [
        {
          "output_type": "stream",
          "name": "stdout",
          "text": [
            "True\n"
          ]
        }
      ]
    }
  ]
}