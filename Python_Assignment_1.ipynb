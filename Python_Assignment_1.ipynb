{
  "nbformat": 4,
  "nbformat_minor": 0,
  "metadata": {
    "colab": {
      "provenance": []
    },
    "kernelspec": {
      "name": "python3",
      "display_name": "Python 3"
    },
    "language_info": {
      "name": "python"
    }
  },
  "cells": [
    {
      "cell_type": "markdown",
      "source": [
        "Q1. Which keyword is used to create a function? Create a function to return a list of odd numbers in the\n",
        "range of 1 to 25.\n"
      ],
      "metadata": {
        "id": "tE80_kB1FFQ4"
      }
    },
    {
      "cell_type": "code",
      "execution_count": 6,
      "metadata": {
        "colab": {
          "base_uri": "https://localhost:8080/"
        },
        "id": "Be2JpouKExbD",
        "outputId": "4645b449-c280-43c5-b1bd-291ef8c52b9c"
      },
      "outputs": [
        {
          "output_type": "execute_result",
          "data": {
            "text/plain": [
              "[1, 3, 5, 7, 9, 11, 13, 15, 17, 19, 21, 23, 25]"
            ]
          },
          "metadata": {},
          "execution_count": 6
        }
      ],
      "source": [
        "#The  def keyword is used to create a function\n",
        "def odd():\n",
        "  l = []\n",
        "  for i in range(1,26):\n",
        "    if i%2 != 0:\n",
        "      l.append(i)\n",
        "    else:\n",
        "      continue\n",
        "  return l\n",
        "odd()"
      ]
    },
    {
      "cell_type": "markdown",
      "source": [],
      "metadata": {
        "id": "ffcMtJTrIRoB"
      }
    },
    {
      "cell_type": "markdown",
      "source": [
        "Q2. Why *args and **kwargs is used in some functions? Create a function each for *args and **kwargs to demonstrate their use."
      ],
      "metadata": {
        "id": "ZOKBNZVWGdOw"
      }
    },
    {
      "cell_type": "markdown",
      "source": [
        "*args is use to pass in multiple values in the  particular function it creates a tuple of the given parameters so that we can easily iterate over the tuple and perform certain operations on it.\n"
      ],
      "metadata": {
        "id": "3Un2vmn0ISap"
      }
    },
    {
      "cell_type": "code",
      "source": [
        "def sum(*args):\n",
        "  s = 0\n",
        "  for i in  args:\n",
        "    s = s+i\n",
        "  return s\n",
        "sum(1,2,3,4,4,5,5,6,6,)"
      ],
      "metadata": {
        "colab": {
          "base_uri": "https://localhost:8080/"
        },
        "id": "W0H94osiGtlY",
        "outputId": "42587652-a76c-47d6-8550-aa9e3686f6d7"
      },
      "execution_count": 7,
      "outputs": [
        {
          "output_type": "execute_result",
          "data": {
            "text/plain": [
              "36"
            ]
          },
          "metadata": {},
          "execution_count": 7
        }
      ]
    },
    {
      "cell_type": "markdown",
      "source": [
        "The \"*kwargs\" parameter is used to pass a variable number of keyword arguments to a function. It allows you to pass key-value pairs as arguments without explicitly specifying them. The *kwargs parameter collects these arguments into a dictionary inside the function."
      ],
      "metadata": {
        "id": "Cl3kF1w-IESL"
      }
    },
    {
      "cell_type": "code",
      "source": [
        "def details(**kwargs):\n",
        "  for key,value in kwargs.items():\n",
        "    print(key,':', value)\n",
        "details(name =\"shashwat\" , age = 24,  student = 'yes \\n')\n",
        "details(name=\"John\", age=25, student = 'no' )\n"
      ],
      "metadata": {
        "colab": {
          "base_uri": "https://localhost:8080/"
        },
        "id": "eNJ1hYwsIWzL",
        "outputId": "b3a56f0c-4a5c-4ec3-96d8-b1b2703fcc0c"
      },
      "execution_count": 18,
      "outputs": [
        {
          "output_type": "stream",
          "name": "stdout",
          "text": [
            "name : shashwat\n",
            "age : 24\n",
            "student : yes \n",
            "\n",
            "name : John\n",
            "age : 25\n",
            "student : no\n"
          ]
        }
      ]
    },
    {
      "cell_type": "markdown",
      "source": [
        "Q3 . What is an iterator in python? Name the method used to initialise the iterator object and the method\n",
        "used for iteration. Use these methods to print the first five elements of the given list [2, 4, 6, 8, 10, 12, 14,\n",
        "16, 18, 20]."
      ],
      "metadata": {
        "id": "Jk5eLd2wKFIJ"
      }
    },
    {
      "cell_type": "markdown",
      "source": [
        "An iterator is an object that enables iteration over a sequence of elements. It provides a way to access elements one at a time without the need to store the entire sequence in memory. "
      ],
      "metadata": {
        "id": "wozcuQgSKTq4"
      }
    },
    {
      "cell_type": "code",
      "source": [
        "li = [2, 4, 6, 8, 10, 12, 14, 16, 18, 20]\n",
        "li_iter = iter(li)\n",
        "for i in range (5):\n",
        "  print(next(li_iter))"
      ],
      "metadata": {
        "colab": {
          "base_uri": "https://localhost:8080/"
        },
        "id": "UYVqWClZKK2u",
        "outputId": "f2ff6d1e-129b-43d1-a497-bd2e4278b425"
      },
      "execution_count": 20,
      "outputs": [
        {
          "output_type": "stream",
          "name": "stdout",
          "text": [
            "2\n",
            "4\n",
            "6\n",
            "8\n",
            "10\n"
          ]
        }
      ]
    },
    {
      "cell_type": "markdown",
      "source": [
        "Q4. What is a generator function in python? Why yield keyword is used? Give an example of a generator\n",
        "function."
      ],
      "metadata": {
        "id": "yFT3YUulK7td"
      }
    },
    {
      "cell_type": "markdown",
      "source": [
        "The generator function returns a iterator object which can help generate values when iterated over it.They are useful when we want to produce a large sequence of values, but we don't want to store all of them in memory at once.\n",
        "\n",
        "The yield keyword is used in generator functions to define points at which the function should pause its execution and yield a value. When a generator function encounters a yield statement, it temporarily suspends its execution, returns the yielded value, and remembers its state"
      ],
      "metadata": {
        "id": "AyW8FFvBLo-H"
      }
    },
    {
      "cell_type": "code",
      "source": [
        "def fib(n):\n",
        "  a, b = 0, 1\n",
        "  for i in range(n):\n",
        "    yield a\n",
        "    a, b = b, a + b\n",
        "\n",
        "fib_sequence = fib(10)\n",
        "for num in fib_sequence:\n",
        "  print(num)"
      ],
      "metadata": {
        "colab": {
          "base_uri": "https://localhost:8080/"
        },
        "id": "7JYFUj0WK_GX",
        "outputId": "240f92d1-549f-4152-94b5-57f17b5fd23f"
      },
      "execution_count": 21,
      "outputs": [
        {
          "output_type": "stream",
          "name": "stdout",
          "text": [
            "0\n",
            "1\n",
            "1\n",
            "2\n",
            "3\n",
            "5\n",
            "8\n",
            "13\n",
            "21\n",
            "34\n"
          ]
        }
      ]
    },
    {
      "cell_type": "markdown",
      "source": [
        "Q5. Create a generator function for prime numbers less than 1000. Use the next() method to print the first 20 prime numbers."
      ],
      "metadata": {
        "id": "dlCpCoKNMaVd"
      }
    },
    {
      "cell_type": "code",
      "source": [
        "def isPrime(num):\n",
        "    for i in range(2, num):\n",
        "        if num % i == 0:\n",
        "            return False\n",
        "    return True\n",
        "\n",
        "def prime_gen(n):\n",
        "    num = 2\n",
        "    while n:\n",
        "        if isPrime(num):\n",
        "            yield num\n",
        "            n -= 1\n",
        "        num += 1\n",
        "\n",
        "it = prime_gen(20)\n",
        "for i in range(20):\n",
        "  prime = next(it)\n",
        "  print(prime)"
      ],
      "metadata": {
        "colab": {
          "base_uri": "https://localhost:8080/"
        },
        "id": "E5V211rdMZeS",
        "outputId": "725bf076-8bbc-4854-b7d5-313240ce73c7"
      },
      "execution_count": 49,
      "outputs": [
        {
          "output_type": "stream",
          "name": "stdout",
          "text": [
            "2\n",
            "3\n",
            "5\n",
            "7\n",
            "11\n",
            "13\n",
            "17\n",
            "19\n",
            "23\n",
            "29\n",
            "31\n",
            "37\n",
            "41\n",
            "43\n",
            "47\n",
            "53\n",
            "59\n",
            "61\n",
            "67\n",
            "71\n"
          ]
        }
      ]
    },
    {
      "cell_type": "markdown",
      "source": [
        "Q6. Write a python program to print the first 10 Fibonacci numbers using a while loop."
      ],
      "metadata": {
        "id": "R0PRxVsRLamG"
      }
    },
    {
      "cell_type": "code",
      "source": [
        "n = 10\n",
        "a,b = 0,1\n",
        "i = 0\n",
        "while i<n:\n",
        "  print(a)\n",
        "  a,b = b,a+b\n",
        "  i+=1\n",
        "\n"
      ],
      "metadata": {
        "colab": {
          "base_uri": "https://localhost:8080/"
        },
        "id": "XF25rUZ5SsHW",
        "outputId": "26a76136-3228-4a89-edb8-d3acdbc199e5"
      },
      "execution_count": 47,
      "outputs": [
        {
          "output_type": "stream",
          "name": "stdout",
          "text": [
            "0\n",
            "1\n",
            "1\n",
            "2\n",
            "3\n",
            "5\n",
            "8\n",
            "13\n",
            "21\n",
            "34\n"
          ]
        }
      ]
    },
    {
      "cell_type": "markdown",
      "source": [
        "Q7. Write a List Comprehension to iterate through the given string: ‘pwskills’.\n",
        "Expected output: ['p', 'w', 's', 'k', 'i', 'l', 'l', 's']"
      ],
      "metadata": {
        "id": "Amxg_U-7TwRU"
      }
    },
    {
      "cell_type": "code",
      "source": [
        "st = 'pwskills'\n",
        "st1 = [i for i in st]\n",
        "print(st1)"
      ],
      "metadata": {
        "colab": {
          "base_uri": "https://localhost:8080/"
        },
        "id": "4CvEqjkPT0TU",
        "outputId": "3fe8668e-8778-4965-db08-cd131048ddd6"
      },
      "execution_count": 53,
      "outputs": [
        {
          "output_type": "stream",
          "name": "stdout",
          "text": [
            "['p', 'w', 's', 'k', 'i', 'l', 'l', 's']\n",
            "['p', 'w', 's', 'k', 'i', 'l', 'l', 's']\n"
          ]
        }
      ]
    },
    {
      "cell_type": "markdown",
      "source": [
        "Q8. Write a python program to check whether a given number is Palindrome or not using a while loop."
      ],
      "metadata": {
        "id": "wUMKQNM3VRrX"
      }
    },
    {
      "cell_type": "code",
      "source": [
        "num = int(input(\" Enter the number u want to check : \"))\n",
        "temp = num\n",
        "rev = 0\n",
        "while(num>0):\n",
        "    dig = num % 10\n",
        "    rev = rev*10 +dig\n",
        "    num = num//10\n",
        "def check_pal(num):\n",
        "    if temp== rev:\n",
        "      print(\"The given number is a palindrome\")\n",
        "    else:\n",
        "      print(\"The given number is not a palindrome\")\n",
        "check_pal(num)"
      ],
      "metadata": {
        "colab": {
          "base_uri": "https://localhost:8080/"
        },
        "id": "U6O9qCR1VqWB",
        "outputId": "73a557a0-d051-4fc7-9712-27acb5394f0b"
      },
      "execution_count": 72,
      "outputs": [
        {
          "output_type": "stream",
          "name": "stdout",
          "text": [
            " Enter the number u want to check : 7449447\n",
            "The given number is a palindrome\n"
          ]
        }
      ]
    },
    {
      "cell_type": "markdown",
      "source": [
        "Q9. Write a code to print odd numbers from 1 to 100 using list comprehension.\n",
        "Note: Use a list comprehension to create a list from 1 to 100 and use another List comprehension to filter\n",
        "out odd numbers."
      ],
      "metadata": {
        "id": "yhBIdXXxe4Q3"
      }
    },
    {
      "cell_type": "code",
      "source": [
        "li =[i for i in range(1,101)]\n",
        "print(li)\n",
        "li1 = [i for i in li if i % 2 != 0]\n",
        "print(li1)"
      ],
      "metadata": {
        "colab": {
          "base_uri": "https://localhost:8080/"
        },
        "id": "3lslg2XSe7w4",
        "outputId": "c56ba9d5-2b29-41ea-e2e6-f190c5ae4f26"
      },
      "execution_count": 91,
      "outputs": [
        {
          "output_type": "stream",
          "name": "stdout",
          "text": [
            "[1, 2, 3, 4, 5, 6, 7, 8, 9, 10, 11, 12, 13, 14, 15, 16, 17, 18, 19, 20, 21, 22, 23, 24, 25, 26, 27, 28, 29, 30, 31, 32, 33, 34, 35, 36, 37, 38, 39, 40, 41, 42, 43, 44, 45, 46, 47, 48, 49, 50, 51, 52, 53, 54, 55, 56, 57, 58, 59, 60, 61, 62, 63, 64, 65, 66, 67, 68, 69, 70, 71, 72, 73, 74, 75, 76, 77, 78, 79, 80, 81, 82, 83, 84, 85, 86, 87, 88, 89, 90, 91, 92, 93, 94, 95, 96, 97, 98, 99, 100]\n",
            "[1, 3, 5, 7, 9, 11, 13, 15, 17, 19, 21, 23, 25, 27, 29, 31, 33, 35, 37, 39, 41, 43, 45, 47, 49, 51, 53, 55, 57, 59, 61, 63, 65, 67, 69, 71, 73, 75, 77, 79, 81, 83, 85, 87, 89, 91, 93, 95, 97, 99]\n"
          ]
        }
      ]
    }
  ]
}