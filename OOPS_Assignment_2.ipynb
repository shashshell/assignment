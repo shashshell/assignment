{
  "nbformat": 4,
  "nbformat_minor": 0,
  "metadata": {
    "colab": {
      "provenance": []
    },
    "kernelspec": {
      "name": "python3",
      "display_name": "Python 3"
    },
    "language_info": {
      "name": "python"
    }
  },
  "cells": [
    {
      "cell_type": "markdown",
      "source": [
        "Q1. What is Abstraction in OOps? Explain with an example."
      ],
      "metadata": {
        "id": "q9IlHj1vd9zl"
      }
    },
    {
      "cell_type": "markdown",
      "source": [
        "\n",
        "Abstraction is a fundamental principle in object-oriented programming (OOP) that involves representing essential features or behaviors while hiding unnecessary details. It focuses on defining interfaces and hiding the implementation details from the users, providing them with a simplified and high-level view of the functionality."
      ],
      "metadata": {
        "id": "DY-WrQWAeQ4O"
      }
    },
    {
      "cell_type": "code",
      "execution_count": 1,
      "metadata": {
        "id": "y4a5HzcocHJp"
      },
      "outputs": [],
      "source": [
        "from abc import ABC, abstractmethod\n",
        "\n",
        "class Animal(ABC):\n",
        "    @abstractmethod\n",
        "    def sound(self):\n",
        "        pass\n",
        "\n",
        "class Dog(Animal):\n",
        "    def sound(self):\n",
        "        return \"Woof!\"\n",
        "\n",
        "class Cat(Animal):\n",
        "    def sound(self):\n",
        "        return \"Meow!\""
      ]
    },
    {
      "cell_type": "code",
      "source": [
        "dog = Dog()"
      ],
      "metadata": {
        "id": "s2IvJVhGeUtV"
      },
      "execution_count": 2,
      "outputs": []
    },
    {
      "cell_type": "code",
      "source": [
        "print(dog.sound())"
      ],
      "metadata": {
        "colab": {
          "base_uri": "https://localhost:8080/"
        },
        "id": "Al_HQE7ceZW1",
        "outputId": "38fdcb71-bb2d-4028-d6fc-c856ecfa013a"
      },
      "execution_count": 3,
      "outputs": [
        {
          "output_type": "stream",
          "name": "stdout",
          "text": [
            "Woof!\n"
          ]
        }
      ]
    },
    {
      "cell_type": "code",
      "source": [
        "cat = Cat()"
      ],
      "metadata": {
        "id": "6RJvSmCOeb_2"
      },
      "execution_count": 5,
      "outputs": []
    },
    {
      "cell_type": "code",
      "source": [
        "print(cat.sound())"
      ],
      "metadata": {
        "colab": {
          "base_uri": "https://localhost:8080/"
        },
        "id": "dSnXeVmfed_X",
        "outputId": "37f94dee-4add-490c-a060-2d645728d16b"
      },
      "execution_count": 6,
      "outputs": [
        {
          "output_type": "stream",
          "name": "stdout",
          "text": [
            "Meow!\n"
          ]
        }
      ]
    },
    {
      "cell_type": "markdown",
      "source": [
        "Q2. Differentiate between Abstraction and Encapsulation. Explain with an example."
      ],
      "metadata": {
        "id": "L4XEwpaiemrH"
      }
    },
    {
      "cell_type": "markdown",
      "source": [
        "Abstraction involves the process of hiding unnecessary details and representing only the essential features or behaviors of an object. It focuses on defining interfaces or abstract classes that provide a blueprint for subclasses to implement.\n",
        "Encapsulation, on the other hand, is the practice of bundling data and methods together within a class and controlling access to them. It involves creating classes that encapsulate data (attributes) and methods (functions) that operate on that data. Encapsulation ensures that the internal state and behavior of an object are hidden from the outside world and can only be accessed through well-defined interfaces (methods)."
      ],
      "metadata": {
        "id": "SKpdtafte9OL"
      }
    },
    {
      "cell_type": "code",
      "source": [
        "class BankAccount:\n",
        "    def __init__(self, account_number, balance):\n",
        "        self.account_number = account_number\n",
        "        self._balance = balance\n",
        "\n",
        "    def deposit(self, amount):\n",
        "        self._balance += amount\n",
        "\n",
        "    def withdraw(self, amount):\n",
        "        if amount <= self._balance:\n",
        "            self._balance -= amount\n",
        "        else:\n",
        "            print(\"Insufficient funds!\")\n",
        "\n",
        "    def get_balance(self):\n",
        "        return self._balance"
      ],
      "metadata": {
        "id": "dqwXhME1enyv"
      },
      "execution_count": 7,
      "outputs": []
    },
    {
      "cell_type": "code",
      "source": [
        "account = BankAccount(\"123456789\", 1000)"
      ],
      "metadata": {
        "id": "izabsVDwfInj"
      },
      "execution_count": 8,
      "outputs": []
    },
    {
      "cell_type": "code",
      "source": [
        "account.deposit(500)\n",
        "account.deposit(200)"
      ],
      "metadata": {
        "id": "9IngblAKfKuy"
      },
      "execution_count": 9,
      "outputs": []
    },
    {
      "cell_type": "code",
      "source": [
        "print(account.get_balance())"
      ],
      "metadata": {
        "colab": {
          "base_uri": "https://localhost:8080/"
        },
        "id": "Aa-HHLidfSYh",
        "outputId": "7b49a978-a0a4-4f05-df5d-3fbce2a59452"
      },
      "execution_count": 10,
      "outputs": [
        {
          "output_type": "stream",
          "name": "stdout",
          "text": [
            "1700\n"
          ]
        }
      ]
    },
    {
      "cell_type": "code",
      "source": [
        "account._balance = 5000\n",
        "print(account.get_balance())"
      ],
      "metadata": {
        "colab": {
          "base_uri": "https://localhost:8080/"
        },
        "id": "6DGCHpkWfYGU",
        "outputId": "57c8df8a-7a79-4aa5-fafd-1a0519448b24"
      },
      "execution_count": 12,
      "outputs": [
        {
          "output_type": "stream",
          "name": "stdout",
          "text": [
            "5000\n"
          ]
        }
      ]
    },
    {
      "cell_type": "markdown",
      "source": [
        "Q3. What is abc module in python? Why is it used?"
      ],
      "metadata": {
        "id": "B9WNnsb9fdHE"
      }
    },
    {
      "cell_type": "markdown",
      "source": [
        "The abc module in Python stands for \"Abstract Base Classes.\" It provides a way to define abstract classes and interfaces in Python. Abstract classes are classes that cannot be instantiated and are meant to serve as blueprints for subclasses to inherit from and implement. Interfaces, on the other hand, define a set of methods that must be implemented by classes that claim to support that interface."
      ],
      "metadata": {
        "id": "0JCxIGrZfgB0"
      }
    },
    {
      "cell_type": "markdown",
      "source": [
        "Q4. How can we achieve data abstraction?"
      ],
      "metadata": {
        "id": "kphL83NWfo5G"
      }
    },
    {
      "cell_type": "markdown",
      "source": [
        "Data abstraction in object-oriented programming is achieved by creating classes and objects. The process involves identifying the essential attributes and behaviors, encapsulating the data within the class, and providing public methods to interact with the data. By hiding the implementation details and exposing only the necessary interfaces, users can work with objects at a higher level of abstractio"
      ],
      "metadata": {
        "id": "xLlzxR03f2gH"
      }
    },
    {
      "cell_type": "markdown",
      "source": [
        "Q5. Can we create an instance of an abstract class? Explain your answer."
      ],
      "metadata": {
        "id": "2c4t7Go3f6iQ"
      }
    },
    {
      "cell_type": "markdown",
      "source": [
        "No, we cannot create an instance of an abstract class in Python. Abstract classes are designed to serve as blueprints for subclasses and are not meant to be instantiated directly. An abstract class is a class that contains one or more abstract methods, which are declared using the @abstractmethod decorator."
      ],
      "metadata": {
        "id": "4zvK6DnVgBtg"
      }
    }
  ]
}